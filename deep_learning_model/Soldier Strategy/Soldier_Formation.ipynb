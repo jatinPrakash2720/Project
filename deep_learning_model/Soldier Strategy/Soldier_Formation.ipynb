{
 "cells": [
  {
   "cell_type": "code",
   "execution_count": 22,
   "metadata": {},
   "outputs": [],
   "source": [
    "import numpy as np\n",
    "import pandas as pd\n",
    "import tensorflow as tf\n",
    "from tensorflow.keras.models import Sequential\n",
    "from tensorflow.keras.layers import Dense, Dropout\n",
    "from sklearn.preprocessing import StandardScaler, LabelEncoder\n",
    "from sklearn.model_selection import train_test_split"
   ]
  },
  {
   "cell_type": "code",
   "execution_count": 23,
   "metadata": {},
   "outputs": [],
   "source": [
    "# Sample dataset (Replace with real dataset)\n",
    "data = {\n",
    "    \"efficiency_predictions\": [22, 64, 71, 18, 16, 62, 18, 68, 72, 76],\n",
    "    \"Temperature\": [37.9, 35.9, 35.7, 36.2, 37.6, 36.3, 37.9, 35.9, 35.6, 35.1],\n",
    "    \"Moisture\": [40.7, 51.8, 60.0, 33.2, 33.6, 64.4, 48.1, 63.6, 65.0, 55.4],\n",
    "    \"Water_Content\": [52.8, 71.8, 62.4, 45.6, 45.5, 71.9, 55.5, 76.4, 60.5, 73.0],\n",
    "    \"SpO2\": [90.5, 98.8, 95.0, 90.2, 92.9, 95.3, 92.3, 99.4, 95.2, 98.7],\n",
    "    \"Fatigue\": [49.4, 36.7, 29.1, 49.8, 65.6, 37.5, 53.2, 21.5, 18.6, 16.1],\n",
    "    \"Drowsiness\": [34.1, 14.4, 23.6, 47.3, 51.9, 17.6, 50.2, 24.8, 19.7, 14.7],\n",
    "    \"Stress\": [45.5, 24.8, 10.1, 50.5, 50.0, 25.8, 44.1, 26.1, 26.4, 27.7],\n",
    "    \"Heart_Rate\": [97.6, 69.3, 78.5, 83.7, 97.0, 67.6, 82.7, 69.5, 70.4, 71.4],\n",
    "    \"Respiration_Rate\": [22.6, 15.9, 15.4, 20.2, 18.0, 17.8, 21.2, 12.6, 15.3, 13.0],\n",
    "    \"x\": [10, 20, 30, 40, 50, 60, 70, 80, 90, 100],\n",
    "    \"y\": [5, 15, 25, 35, 45, 55, 65, 75, 85, 95],\n",
    "    \"label\": [\"Defensive Position - Regroup and Hold\", \"Balanced Formation - Hold and Assess\", \"Fierce Attack - Charge Forward!\", \n",
    "               \"Defend Weakest Soldier at (x, y)\", \"Defend Weakest Soldier at (x, y)\", \"Balanced Formation - Hold and Assess\",\n",
    "               \"Defensive Position - Regroup and Hold\", \"Balanced Formation - Hold and Assess\", \"Fierce Attack - Charge Forward!\",\n",
    "               \"Fierce Attack - Charge Forward!\"]\n",
    "}"
   ]
  },
  {
   "cell_type": "code",
   "execution_count": 24,
   "metadata": {},
   "outputs": [],
   "source": [
    "df = pd.DataFrame(data)"
   ]
  },
  {
   "cell_type": "code",
   "execution_count": 25,
   "metadata": {},
   "outputs": [
    {
     "data": {
      "text/html": [
       "<div>\n",
       "<style scoped>\n",
       "    .dataframe tbody tr th:only-of-type {\n",
       "        vertical-align: middle;\n",
       "    }\n",
       "\n",
       "    .dataframe tbody tr th {\n",
       "        vertical-align: top;\n",
       "    }\n",
       "\n",
       "    .dataframe thead th {\n",
       "        text-align: right;\n",
       "    }\n",
       "</style>\n",
       "<table border=\"1\" class=\"dataframe\">\n",
       "  <thead>\n",
       "    <tr style=\"text-align: right;\">\n",
       "      <th></th>\n",
       "      <th>efficiency_predictions</th>\n",
       "      <th>Temperature</th>\n",
       "      <th>Moisture</th>\n",
       "      <th>Water_Content</th>\n",
       "      <th>SpO2</th>\n",
       "      <th>Fatigue</th>\n",
       "      <th>Drowsiness</th>\n",
       "      <th>Stress</th>\n",
       "      <th>Heart_Rate</th>\n",
       "      <th>Respiration_Rate</th>\n",
       "      <th>x</th>\n",
       "      <th>y</th>\n",
       "      <th>label</th>\n",
       "    </tr>\n",
       "  </thead>\n",
       "  <tbody>\n",
       "    <tr>\n",
       "      <th>0</th>\n",
       "      <td>22</td>\n",
       "      <td>37.9</td>\n",
       "      <td>40.7</td>\n",
       "      <td>52.8</td>\n",
       "      <td>90.5</td>\n",
       "      <td>49.4</td>\n",
       "      <td>34.1</td>\n",
       "      <td>45.5</td>\n",
       "      <td>97.6</td>\n",
       "      <td>22.6</td>\n",
       "      <td>10</td>\n",
       "      <td>5</td>\n",
       "      <td>Defensive Position - Regroup and Hold</td>\n",
       "    </tr>\n",
       "    <tr>\n",
       "      <th>1</th>\n",
       "      <td>64</td>\n",
       "      <td>35.9</td>\n",
       "      <td>51.8</td>\n",
       "      <td>71.8</td>\n",
       "      <td>98.8</td>\n",
       "      <td>36.7</td>\n",
       "      <td>14.4</td>\n",
       "      <td>24.8</td>\n",
       "      <td>69.3</td>\n",
       "      <td>15.9</td>\n",
       "      <td>20</td>\n",
       "      <td>15</td>\n",
       "      <td>Balanced Formation - Hold and Assess</td>\n",
       "    </tr>\n",
       "    <tr>\n",
       "      <th>2</th>\n",
       "      <td>71</td>\n",
       "      <td>35.7</td>\n",
       "      <td>60.0</td>\n",
       "      <td>62.4</td>\n",
       "      <td>95.0</td>\n",
       "      <td>29.1</td>\n",
       "      <td>23.6</td>\n",
       "      <td>10.1</td>\n",
       "      <td>78.5</td>\n",
       "      <td>15.4</td>\n",
       "      <td>30</td>\n",
       "      <td>25</td>\n",
       "      <td>Fierce Attack - Charge Forward!</td>\n",
       "    </tr>\n",
       "    <tr>\n",
       "      <th>3</th>\n",
       "      <td>18</td>\n",
       "      <td>36.2</td>\n",
       "      <td>33.2</td>\n",
       "      <td>45.6</td>\n",
       "      <td>90.2</td>\n",
       "      <td>49.8</td>\n",
       "      <td>47.3</td>\n",
       "      <td>50.5</td>\n",
       "      <td>83.7</td>\n",
       "      <td>20.2</td>\n",
       "      <td>40</td>\n",
       "      <td>35</td>\n",
       "      <td>Defend Weakest Soldier at (x, y)</td>\n",
       "    </tr>\n",
       "    <tr>\n",
       "      <th>4</th>\n",
       "      <td>16</td>\n",
       "      <td>37.6</td>\n",
       "      <td>33.6</td>\n",
       "      <td>45.5</td>\n",
       "      <td>92.9</td>\n",
       "      <td>65.6</td>\n",
       "      <td>51.9</td>\n",
       "      <td>50.0</td>\n",
       "      <td>97.0</td>\n",
       "      <td>18.0</td>\n",
       "      <td>50</td>\n",
       "      <td>45</td>\n",
       "      <td>Defend Weakest Soldier at (x, y)</td>\n",
       "    </tr>\n",
       "    <tr>\n",
       "      <th>5</th>\n",
       "      <td>62</td>\n",
       "      <td>36.3</td>\n",
       "      <td>64.4</td>\n",
       "      <td>71.9</td>\n",
       "      <td>95.3</td>\n",
       "      <td>37.5</td>\n",
       "      <td>17.6</td>\n",
       "      <td>25.8</td>\n",
       "      <td>67.6</td>\n",
       "      <td>17.8</td>\n",
       "      <td>60</td>\n",
       "      <td>55</td>\n",
       "      <td>Balanced Formation - Hold and Assess</td>\n",
       "    </tr>\n",
       "    <tr>\n",
       "      <th>6</th>\n",
       "      <td>18</td>\n",
       "      <td>37.9</td>\n",
       "      <td>48.1</td>\n",
       "      <td>55.5</td>\n",
       "      <td>92.3</td>\n",
       "      <td>53.2</td>\n",
       "      <td>50.2</td>\n",
       "      <td>44.1</td>\n",
       "      <td>82.7</td>\n",
       "      <td>21.2</td>\n",
       "      <td>70</td>\n",
       "      <td>65</td>\n",
       "      <td>Defensive Position - Regroup and Hold</td>\n",
       "    </tr>\n",
       "    <tr>\n",
       "      <th>7</th>\n",
       "      <td>68</td>\n",
       "      <td>35.9</td>\n",
       "      <td>63.6</td>\n",
       "      <td>76.4</td>\n",
       "      <td>99.4</td>\n",
       "      <td>21.5</td>\n",
       "      <td>24.8</td>\n",
       "      <td>26.1</td>\n",
       "      <td>69.5</td>\n",
       "      <td>12.6</td>\n",
       "      <td>80</td>\n",
       "      <td>75</td>\n",
       "      <td>Balanced Formation - Hold and Assess</td>\n",
       "    </tr>\n",
       "    <tr>\n",
       "      <th>8</th>\n",
       "      <td>72</td>\n",
       "      <td>35.6</td>\n",
       "      <td>65.0</td>\n",
       "      <td>60.5</td>\n",
       "      <td>95.2</td>\n",
       "      <td>18.6</td>\n",
       "      <td>19.7</td>\n",
       "      <td>26.4</td>\n",
       "      <td>70.4</td>\n",
       "      <td>15.3</td>\n",
       "      <td>90</td>\n",
       "      <td>85</td>\n",
       "      <td>Fierce Attack - Charge Forward!</td>\n",
       "    </tr>\n",
       "    <tr>\n",
       "      <th>9</th>\n",
       "      <td>76</td>\n",
       "      <td>35.1</td>\n",
       "      <td>55.4</td>\n",
       "      <td>73.0</td>\n",
       "      <td>98.7</td>\n",
       "      <td>16.1</td>\n",
       "      <td>14.7</td>\n",
       "      <td>27.7</td>\n",
       "      <td>71.4</td>\n",
       "      <td>13.0</td>\n",
       "      <td>100</td>\n",
       "      <td>95</td>\n",
       "      <td>Fierce Attack - Charge Forward!</td>\n",
       "    </tr>\n",
       "  </tbody>\n",
       "</table>\n",
       "</div>"
      ],
      "text/plain": [
       "   efficiency_predictions  Temperature  Moisture  Water_Content  SpO2  \\\n",
       "0                      22         37.9      40.7           52.8  90.5   \n",
       "1                      64         35.9      51.8           71.8  98.8   \n",
       "2                      71         35.7      60.0           62.4  95.0   \n",
       "3                      18         36.2      33.2           45.6  90.2   \n",
       "4                      16         37.6      33.6           45.5  92.9   \n",
       "5                      62         36.3      64.4           71.9  95.3   \n",
       "6                      18         37.9      48.1           55.5  92.3   \n",
       "7                      68         35.9      63.6           76.4  99.4   \n",
       "8                      72         35.6      65.0           60.5  95.2   \n",
       "9                      76         35.1      55.4           73.0  98.7   \n",
       "\n",
       "   Fatigue  Drowsiness  Stress  Heart_Rate  Respiration_Rate    x   y  \\\n",
       "0     49.4        34.1    45.5        97.6              22.6   10   5   \n",
       "1     36.7        14.4    24.8        69.3              15.9   20  15   \n",
       "2     29.1        23.6    10.1        78.5              15.4   30  25   \n",
       "3     49.8        47.3    50.5        83.7              20.2   40  35   \n",
       "4     65.6        51.9    50.0        97.0              18.0   50  45   \n",
       "5     37.5        17.6    25.8        67.6              17.8   60  55   \n",
       "6     53.2        50.2    44.1        82.7              21.2   70  65   \n",
       "7     21.5        24.8    26.1        69.5              12.6   80  75   \n",
       "8     18.6        19.7    26.4        70.4              15.3   90  85   \n",
       "9     16.1        14.7    27.7        71.4              13.0  100  95   \n",
       "\n",
       "                                   label  \n",
       "0  Defensive Position - Regroup and Hold  \n",
       "1   Balanced Formation - Hold and Assess  \n",
       "2        Fierce Attack - Charge Forward!  \n",
       "3       Defend Weakest Soldier at (x, y)  \n",
       "4       Defend Weakest Soldier at (x, y)  \n",
       "5   Balanced Formation - Hold and Assess  \n",
       "6  Defensive Position - Regroup and Hold  \n",
       "7   Balanced Formation - Hold and Assess  \n",
       "8        Fierce Attack - Charge Forward!  \n",
       "9        Fierce Attack - Charge Forward!  "
      ]
     },
     "execution_count": 25,
     "metadata": {},
     "output_type": "execute_result"
    }
   ],
   "source": [
    "df"
   ]
  },
  {
   "cell_type": "code",
   "execution_count": 26,
   "metadata": {},
   "outputs": [],
   "source": [
    "# Encode labels\n",
    "label_encoder = LabelEncoder()\n",
    "df['label'] = label_encoder.fit_transform(df['label'])"
   ]
  },
  {
   "cell_type": "code",
   "execution_count": 27,
   "metadata": {},
   "outputs": [],
   "source": [
    "# Prepare data\n",
    "X = df.drop(columns=['label'])\n",
    "y = df['label']\n",
    "scaler = StandardScaler()\n",
    "X_scaled = scaler.fit_transform(X)\n",
    "X_train, X_test, y_train, y_test = train_test_split(X_scaled, y, test_size=0.2, random_state=42)"
   ]
  },
  {
   "cell_type": "code",
   "execution_count": 28,
   "metadata": {},
   "outputs": [
    {
     "name": "stderr",
     "output_type": "stream",
     "text": [
      "c:\\Users\\Himanshu\\AppData\\Local\\Programs\\Python\\Python311\\Lib\\site-packages\\keras\\src\\layers\\core\\dense.py:87: UserWarning: Do not pass an `input_shape`/`input_dim` argument to a layer. When using Sequential models, prefer using an `Input(shape)` object as the first layer in the model instead.\n",
      "  super().__init__(activity_regularizer=activity_regularizer, **kwargs)\n"
     ]
    }
   ],
   "source": [
    "# Build the model\n",
    "model = Sequential([\n",
    "    Dense(64, activation='relu', input_shape=(X_train.shape[1],)),\n",
    "    Dropout(0.2),\n",
    "    Dense(32, activation='relu'),\n",
    "    Dropout(0.2),\n",
    "    Dense(len(set(y)), activation='softmax')\n",
    "])"
   ]
  },
  {
   "cell_type": "code",
   "execution_count": 29,
   "metadata": {},
   "outputs": [],
   "source": [
    "# Compile the model\n",
    "model.compile(optimizer='adam', loss='sparse_categorical_crossentropy', metrics=['accuracy'])"
   ]
  },
  {
   "cell_type": "code",
   "execution_count": 30,
   "metadata": {},
   "outputs": [
    {
     "name": "stdout",
     "output_type": "stream",
     "text": [
      "Epoch 1/50\n",
      "\u001b[1m2/2\u001b[0m \u001b[32m━━━━━━━━━━━━━━━━━━━━\u001b[0m\u001b[37m\u001b[0m \u001b[1m1s\u001b[0m 205ms/step - accuracy: 0.2500 - loss: 1.4556 - val_accuracy: 0.5000 - val_loss: 1.2784\n",
      "Epoch 2/50\n",
      "\u001b[1m2/2\u001b[0m \u001b[32m━━━━━━━━━━━━━━━━━━━━\u001b[0m\u001b[37m\u001b[0m \u001b[1m0s\u001b[0m 62ms/step - accuracy: 0.3333 - loss: 1.3154 - val_accuracy: 0.5000 - val_loss: 1.2600\n",
      "Epoch 3/50\n",
      "\u001b[1m2/2\u001b[0m \u001b[32m━━━━━━━━━━━━━━━━━━━━\u001b[0m\u001b[37m\u001b[0m \u001b[1m0s\u001b[0m 70ms/step - accuracy: 0.3333 - loss: 1.4494 - val_accuracy: 0.5000 - val_loss: 1.2439\n",
      "Epoch 4/50\n",
      "\u001b[1m2/2\u001b[0m \u001b[32m━━━━━━━━━━━━━━━━━━━━\u001b[0m\u001b[37m\u001b[0m \u001b[1m0s\u001b[0m 85ms/step - accuracy: 0.0833 - loss: 1.4379 - val_accuracy: 0.5000 - val_loss: 1.2269\n",
      "Epoch 5/50\n",
      "\u001b[1m2/2\u001b[0m \u001b[32m━━━━━━━━━━━━━━━━━━━━\u001b[0m\u001b[37m\u001b[0m \u001b[1m0s\u001b[0m 57ms/step - accuracy: 0.4167 - loss: 1.2842 - val_accuracy: 0.5000 - val_loss: 1.2075\n",
      "Epoch 6/50\n",
      "\u001b[1m2/2\u001b[0m \u001b[32m━━━━━━━━━━━━━━━━━━━━\u001b[0m\u001b[37m\u001b[0m \u001b[1m0s\u001b[0m 63ms/step - accuracy: 0.0833 - loss: 1.3794 - val_accuracy: 0.5000 - val_loss: 1.1852\n",
      "Epoch 7/50\n",
      "\u001b[1m2/2\u001b[0m \u001b[32m━━━━━━━━━━━━━━━━━━━━\u001b[0m\u001b[37m\u001b[0m \u001b[1m0s\u001b[0m 56ms/step - accuracy: 0.5000 - loss: 1.1637 - val_accuracy: 0.5000 - val_loss: 1.1619\n",
      "Epoch 8/50\n",
      "\u001b[1m2/2\u001b[0m \u001b[32m━━━━━━━━━━━━━━━━━━━━\u001b[0m\u001b[37m\u001b[0m \u001b[1m0s\u001b[0m 55ms/step - accuracy: 0.5000 - loss: 1.1519 - val_accuracy: 0.5000 - val_loss: 1.1410\n",
      "Epoch 9/50\n",
      "\u001b[1m2/2\u001b[0m \u001b[32m━━━━━━━━━━━━━━━━━━━━\u001b[0m\u001b[37m\u001b[0m \u001b[1m0s\u001b[0m 75ms/step - accuracy: 0.3333 - loss: 1.2461 - val_accuracy: 0.5000 - val_loss: 1.1214\n",
      "Epoch 10/50\n",
      "\u001b[1m2/2\u001b[0m \u001b[32m━━━━━━━━━━━━━━━━━━━━\u001b[0m\u001b[37m\u001b[0m \u001b[1m0s\u001b[0m 76ms/step - accuracy: 0.5000 - loss: 1.0219 - val_accuracy: 0.5000 - val_loss: 1.1019\n",
      "Epoch 11/50\n",
      "\u001b[1m2/2\u001b[0m \u001b[32m━━━━━━━━━━━━━━━━━━━━\u001b[0m\u001b[37m\u001b[0m \u001b[1m0s\u001b[0m 63ms/step - accuracy: 0.8333 - loss: 0.8822 - val_accuracy: 0.5000 - val_loss: 1.0827\n",
      "Epoch 12/50\n",
      "\u001b[1m2/2\u001b[0m \u001b[32m━━━━━━━━━━━━━━━━━━━━\u001b[0m\u001b[37m\u001b[0m \u001b[1m0s\u001b[0m 68ms/step - accuracy: 0.6667 - loss: 0.9247 - val_accuracy: 0.5000 - val_loss: 1.0626\n",
      "Epoch 13/50\n",
      "\u001b[1m2/2\u001b[0m \u001b[32m━━━━━━━━━━━━━━━━━━━━\u001b[0m\u001b[37m\u001b[0m \u001b[1m0s\u001b[0m 99ms/step - accuracy: 0.5833 - loss: 1.0536 - val_accuracy: 0.5000 - val_loss: 1.0455\n",
      "Epoch 14/50\n",
      "\u001b[1m2/2\u001b[0m \u001b[32m━━━━━━━━━━━━━━━━━━━━\u001b[0m\u001b[37m\u001b[0m \u001b[1m0s\u001b[0m 66ms/step - accuracy: 0.6667 - loss: 1.0054 - val_accuracy: 0.5000 - val_loss: 1.0288\n",
      "Epoch 15/50\n",
      "\u001b[1m2/2\u001b[0m \u001b[32m━━━━━━━━━━━━━━━━━━━━\u001b[0m\u001b[37m\u001b[0m \u001b[1m0s\u001b[0m 66ms/step - accuracy: 0.7500 - loss: 0.8591 - val_accuracy: 0.5000 - val_loss: 1.0122\n",
      "Epoch 16/50\n",
      "\u001b[1m2/2\u001b[0m \u001b[32m━━━━━━━━━━━━━━━━━━━━\u001b[0m\u001b[37m\u001b[0m \u001b[1m0s\u001b[0m 84ms/step - accuracy: 0.6667 - loss: 1.0549 - val_accuracy: 0.5000 - val_loss: 0.9951\n",
      "Epoch 17/50\n",
      "\u001b[1m2/2\u001b[0m \u001b[32m━━━━━━━━━━━━━━━━━━━━\u001b[0m\u001b[37m\u001b[0m \u001b[1m0s\u001b[0m 68ms/step - accuracy: 0.6667 - loss: 0.9538 - val_accuracy: 0.5000 - val_loss: 0.9802\n",
      "Epoch 18/50\n",
      "\u001b[1m2/2\u001b[0m \u001b[32m━━━━━━━━━━━━━━━━━━━━\u001b[0m\u001b[37m\u001b[0m \u001b[1m0s\u001b[0m 68ms/step - accuracy: 0.5833 - loss: 0.9241 - val_accuracy: 0.5000 - val_loss: 0.9664\n",
      "Epoch 19/50\n",
      "\u001b[1m2/2\u001b[0m \u001b[32m━━━━━━━━━━━━━━━━━━━━\u001b[0m\u001b[37m\u001b[0m \u001b[1m0s\u001b[0m 70ms/step - accuracy: 0.7500 - loss: 0.9111 - val_accuracy: 0.5000 - val_loss: 0.9526\n",
      "Epoch 20/50\n",
      "\u001b[1m2/2\u001b[0m \u001b[32m━━━━━━━━━━━━━━━━━━━━\u001b[0m\u001b[37m\u001b[0m \u001b[1m0s\u001b[0m 64ms/step - accuracy: 0.6667 - loss: 0.9066 - val_accuracy: 0.5000 - val_loss: 0.9381\n",
      "Epoch 21/50\n",
      "\u001b[1m2/2\u001b[0m \u001b[32m━━━━━━━━━━━━━━━━━━━━\u001b[0m\u001b[37m\u001b[0m \u001b[1m0s\u001b[0m 58ms/step - accuracy: 0.7500 - loss: 0.7476 - val_accuracy: 0.5000 - val_loss: 0.9270\n",
      "Epoch 22/50\n",
      "\u001b[1m2/2\u001b[0m \u001b[32m━━━━━━━━━━━━━━━━━━━━\u001b[0m\u001b[37m\u001b[0m \u001b[1m0s\u001b[0m 78ms/step - accuracy: 0.8333 - loss: 0.9227 - val_accuracy: 0.5000 - val_loss: 0.9150\n",
      "Epoch 23/50\n",
      "\u001b[1m2/2\u001b[0m \u001b[32m━━━━━━━━━━━━━━━━━━━━\u001b[0m\u001b[37m\u001b[0m \u001b[1m0s\u001b[0m 59ms/step - accuracy: 0.7500 - loss: 0.8457 - val_accuracy: 0.5000 - val_loss: 0.9039\n",
      "Epoch 24/50\n",
      "\u001b[1m2/2\u001b[0m \u001b[32m━━━━━━━━━━━━━━━━━━━━\u001b[0m\u001b[37m\u001b[0m \u001b[1m0s\u001b[0m 66ms/step - accuracy: 0.9167 - loss: 0.7574 - val_accuracy: 0.5000 - val_loss: 0.8927\n",
      "Epoch 25/50\n",
      "\u001b[1m2/2\u001b[0m \u001b[32m━━━━━━━━━━━━━━━━━━━━\u001b[0m\u001b[37m\u001b[0m \u001b[1m0s\u001b[0m 59ms/step - accuracy: 0.9167 - loss: 0.7820 - val_accuracy: 0.5000 - val_loss: 0.8800\n",
      "Epoch 26/50\n",
      "\u001b[1m2/2\u001b[0m \u001b[32m━━━━━━━━━━━━━━━━━━━━\u001b[0m\u001b[37m\u001b[0m \u001b[1m0s\u001b[0m 63ms/step - accuracy: 0.8333 - loss: 0.7631 - val_accuracy: 0.5000 - val_loss: 0.8680\n",
      "Epoch 27/50\n",
      "\u001b[1m2/2\u001b[0m \u001b[32m━━━━━━━━━━━━━━━━━━━━\u001b[0m\u001b[37m\u001b[0m \u001b[1m0s\u001b[0m 61ms/step - accuracy: 0.8333 - loss: 0.7250 - val_accuracy: 0.5000 - val_loss: 0.8564\n",
      "Epoch 28/50\n",
      "\u001b[1m2/2\u001b[0m \u001b[32m━━━━━━━━━━━━━━━━━━━━\u001b[0m\u001b[37m\u001b[0m \u001b[1m0s\u001b[0m 63ms/step - accuracy: 1.0000 - loss: 0.6564 - val_accuracy: 0.5000 - val_loss: 0.8446\n",
      "Epoch 29/50\n",
      "\u001b[1m2/2\u001b[0m \u001b[32m━━━━━━━━━━━━━━━━━━━━\u001b[0m\u001b[37m\u001b[0m \u001b[1m0s\u001b[0m 60ms/step - accuracy: 1.0000 - loss: 0.6796 - val_accuracy: 0.5000 - val_loss: 0.8339\n",
      "Epoch 30/50\n",
      "\u001b[1m2/2\u001b[0m \u001b[32m━━━━━━━━━━━━━━━━━━━━\u001b[0m\u001b[37m\u001b[0m \u001b[1m0s\u001b[0m 58ms/step - accuracy: 1.0000 - loss: 0.6569 - val_accuracy: 0.5000 - val_loss: 0.8214\n",
      "Epoch 31/50\n",
      "\u001b[1m2/2\u001b[0m \u001b[32m━━━━━━━━━━━━━━━━━━━━\u001b[0m\u001b[37m\u001b[0m \u001b[1m0s\u001b[0m 67ms/step - accuracy: 1.0000 - loss: 0.4688 - val_accuracy: 0.5000 - val_loss: 0.8080\n",
      "Epoch 32/50\n",
      "\u001b[1m2/2\u001b[0m \u001b[32m━━━━━━━━━━━━━━━━━━━━\u001b[0m\u001b[37m\u001b[0m \u001b[1m0s\u001b[0m 55ms/step - accuracy: 1.0000 - loss: 0.5789 - val_accuracy: 0.5000 - val_loss: 0.7951\n",
      "Epoch 33/50\n",
      "\u001b[1m2/2\u001b[0m \u001b[32m━━━━━━━━━━━━━━━━━━━━\u001b[0m\u001b[37m\u001b[0m \u001b[1m0s\u001b[0m 70ms/step - accuracy: 1.0000 - loss: 0.5932 - val_accuracy: 0.5000 - val_loss: 0.7835\n",
      "Epoch 34/50\n",
      "\u001b[1m2/2\u001b[0m \u001b[32m━━━━━━━━━━━━━━━━━━━━\u001b[0m\u001b[37m\u001b[0m \u001b[1m0s\u001b[0m 53ms/step - accuracy: 0.9167 - loss: 0.6289 - val_accuracy: 0.5000 - val_loss: 0.7728\n",
      "Epoch 35/50\n",
      "\u001b[1m2/2\u001b[0m \u001b[32m━━━━━━━━━━━━━━━━━━━━\u001b[0m\u001b[37m\u001b[0m \u001b[1m0s\u001b[0m 68ms/step - accuracy: 0.8333 - loss: 0.6869 - val_accuracy: 0.5000 - val_loss: 0.7633\n",
      "Epoch 36/50\n",
      "\u001b[1m2/2\u001b[0m \u001b[32m━━━━━━━━━━━━━━━━━━━━\u001b[0m\u001b[37m\u001b[0m \u001b[1m0s\u001b[0m 100ms/step - accuracy: 1.0000 - loss: 0.4897 - val_accuracy: 0.5000 - val_loss: 0.7524\n",
      "Epoch 37/50\n",
      "\u001b[1m2/2\u001b[0m \u001b[32m━━━━━━━━━━━━━━━━━━━━\u001b[0m\u001b[37m\u001b[0m \u001b[1m0s\u001b[0m 51ms/step - accuracy: 1.0000 - loss: 0.4693 - val_accuracy: 0.5000 - val_loss: 0.7422\n",
      "Epoch 38/50\n",
      "\u001b[1m2/2\u001b[0m \u001b[32m━━━━━━━━━━━━━━━━━━━━\u001b[0m\u001b[37m\u001b[0m \u001b[1m0s\u001b[0m 54ms/step - accuracy: 1.0000 - loss: 0.4419 - val_accuracy: 0.5000 - val_loss: 0.7333\n",
      "Epoch 39/50\n",
      "\u001b[1m2/2\u001b[0m \u001b[32m━━━━━━━━━━━━━━━━━━━━\u001b[0m\u001b[37m\u001b[0m \u001b[1m0s\u001b[0m 87ms/step - accuracy: 0.9167 - loss: 0.5870 - val_accuracy: 0.5000 - val_loss: 0.7234\n",
      "Epoch 40/50\n",
      "\u001b[1m2/2\u001b[0m \u001b[32m━━━━━━━━━━━━━━━━━━━━\u001b[0m\u001b[37m\u001b[0m \u001b[1m0s\u001b[0m 49ms/step - accuracy: 1.0000 - loss: 0.3571 - val_accuracy: 0.5000 - val_loss: 0.7145\n",
      "Epoch 41/50\n",
      "\u001b[1m2/2\u001b[0m \u001b[32m━━━━━━━━━━━━━━━━━━━━\u001b[0m\u001b[37m\u001b[0m \u001b[1m0s\u001b[0m 73ms/step - accuracy: 0.8333 - loss: 0.5684 - val_accuracy: 0.5000 - val_loss: 0.7050\n",
      "Epoch 42/50\n",
      "\u001b[1m2/2\u001b[0m \u001b[32m━━━━━━━━━━━━━━━━━━━━\u001b[0m\u001b[37m\u001b[0m \u001b[1m0s\u001b[0m 59ms/step - accuracy: 0.8333 - loss: 0.4950 - val_accuracy: 0.5000 - val_loss: 0.6963\n",
      "Epoch 43/50\n",
      "\u001b[1m2/2\u001b[0m \u001b[32m━━━━━━━━━━━━━━━━━━━━\u001b[0m\u001b[37m\u001b[0m \u001b[1m0s\u001b[0m 63ms/step - accuracy: 1.0000 - loss: 0.4463 - val_accuracy: 0.5000 - val_loss: 0.6876\n",
      "Epoch 44/50\n",
      "\u001b[1m2/2\u001b[0m \u001b[32m━━━━━━━━━━━━━━━━━━━━\u001b[0m\u001b[37m\u001b[0m \u001b[1m0s\u001b[0m 63ms/step - accuracy: 1.0000 - loss: 0.4712 - val_accuracy: 0.5000 - val_loss: 0.6795\n",
      "Epoch 45/50\n",
      "\u001b[1m2/2\u001b[0m \u001b[32m━━━━━━━━━━━━━━━━━━━━\u001b[0m\u001b[37m\u001b[0m \u001b[1m0s\u001b[0m 68ms/step - accuracy: 0.6667 - loss: 0.6151 - val_accuracy: 0.5000 - val_loss: 0.6709\n",
      "Epoch 46/50\n",
      "\u001b[1m2/2\u001b[0m \u001b[32m━━━━━━━━━━━━━━━━━━━━\u001b[0m\u001b[37m\u001b[0m \u001b[1m0s\u001b[0m 76ms/step - accuracy: 1.0000 - loss: 0.4234 - val_accuracy: 0.5000 - val_loss: 0.6624\n",
      "Epoch 47/50\n",
      "\u001b[1m2/2\u001b[0m \u001b[32m━━━━━━━━━━━━━━━━━━━━\u001b[0m\u001b[37m\u001b[0m \u001b[1m0s\u001b[0m 63ms/step - accuracy: 1.0000 - loss: 0.3595 - val_accuracy: 0.5000 - val_loss: 0.6541\n",
      "Epoch 48/50\n",
      "\u001b[1m2/2\u001b[0m \u001b[32m━━━━━━━━━━━━━━━━━━━━\u001b[0m\u001b[37m\u001b[0m \u001b[1m0s\u001b[0m 62ms/step - accuracy: 0.7500 - loss: 0.4673 - val_accuracy: 0.5000 - val_loss: 0.6440\n",
      "Epoch 49/50\n",
      "\u001b[1m2/2\u001b[0m \u001b[32m━━━━━━━━━━━━━━━━━━━━\u001b[0m\u001b[37m\u001b[0m \u001b[1m0s\u001b[0m 47ms/step - accuracy: 0.8333 - loss: 0.5019 - val_accuracy: 0.5000 - val_loss: 0.6352\n",
      "Epoch 50/50\n",
      "\u001b[1m2/2\u001b[0m \u001b[32m━━━━━━━━━━━━━━━━━━━━\u001b[0m\u001b[37m\u001b[0m \u001b[1m0s\u001b[0m 63ms/step - accuracy: 1.0000 - loss: 0.3168 - val_accuracy: 0.5000 - val_loss: 0.6281\n"
     ]
    },
    {
     "data": {
      "text/plain": [
       "<keras.src.callbacks.history.History at 0x21f7f7ae710>"
      ]
     },
     "execution_count": 30,
     "metadata": {},
     "output_type": "execute_result"
    }
   ],
   "source": [
    "\n",
    "# Train the model\n",
    "model.fit(X_train, y_train, epochs=50, batch_size=4, validation_data=(X_test, y_test))\n"
   ]
  },
  {
   "cell_type": "code",
   "execution_count": 31,
   "metadata": {},
   "outputs": [],
   "source": [
    "import os"
   ]
  },
  {
   "cell_type": "code",
   "execution_count": 32,
   "metadata": {},
   "outputs": [],
   "source": [
    "Trained_Model_Path = \"../../backend/Trained_Models\""
   ]
  },
  {
   "cell_type": "code",
   "execution_count": 33,
   "metadata": {},
   "outputs": [],
   "source": [
    "# Save model\n",
    "model.save(os.path.join(Trained_Model_Path,\"soldier_tactics_model.keras\"))"
   ]
  },
  {
   "cell_type": "code",
   "execution_count": 34,
   "metadata": {},
   "outputs": [],
   "source": [
    "# Predict function\n",
    "def predict_tactic(input_data):\n",
    "    input_scaled = scaler.transform([input_data])\n",
    "    prediction = model.predict(input_scaled)\n",
    "    return label_encoder.inverse_transform([np.argmax(prediction)])[0]"
   ]
  },
  {
   "cell_type": "code",
   "execution_count": 35,
   "metadata": {},
   "outputs": [
    {
     "name": "stdout",
     "output_type": "stream",
     "text": [
      "\u001b[1m1/1\u001b[0m \u001b[32m━━━━━━━━━━━━━━━━━━━━\u001b[0m\u001b[37m\u001b[0m \u001b[1m0s\u001b[0m 47ms/step\n",
      "Predicted Tactic: Defensive Position - Regroup and Hold\n"
     ]
    },
    {
     "name": "stderr",
     "output_type": "stream",
     "text": [
      "c:\\Users\\Himanshu\\AppData\\Local\\Programs\\Python\\Python311\\Lib\\site-packages\\sklearn\\utils\\validation.py:2739: UserWarning: X does not have valid feature names, but StandardScaler was fitted with feature names\n",
      "  warnings.warn(\n"
     ]
    }
   ],
   "source": [
    "# Example usage\n",
    "sample_data = X.iloc[0].tolist()\n",
    "predicted_tactic = predict_tactic(sample_data)\n",
    "print(\"Predicted Tactic:\", predicted_tactic)\n"
   ]
  },
  {
   "cell_type": "code",
   "execution_count": 36,
   "metadata": {},
   "outputs": [
    {
     "name": "stdout",
     "output_type": "stream",
     "text": [
      "Scaler saved successfully.\n"
     ]
    }
   ],
   "source": [
    "import joblib\n",
    "\n",
    "joblib.dump(scaler, os.path.join(Trained_Model_Path,\"Tactics_Scaler.pkl\"))\n",
    "print(\"Scaler saved successfully.\")"
   ]
  },
  {
   "cell_type": "code",
   "execution_count": 37,
   "metadata": {},
   "outputs": [
    {
     "data": {
      "text/plain": [
       "['../../backend/Trained_Models\\\\Tactics_Label_Encoder.pkl']"
      ]
     },
     "execution_count": 37,
     "metadata": {},
     "output_type": "execute_result"
    }
   ],
   "source": [
    "# Save the fitted label encoder\n",
    "joblib.dump(\n",
    "    label_encoder, os.path.join(Trained_Model_Path, \"Tactics_Label_Encoder.pkl\")\n",
    ")"
   ]
  },
  {
   "cell_type": "code",
   "execution_count": null,
   "metadata": {},
   "outputs": [],
   "source": []
  }
 ],
 "metadata": {
  "kernelspec": {
   "display_name": "Python 3",
   "language": "python",
   "name": "python3"
  },
  "language_info": {
   "codemirror_mode": {
    "name": "ipython",
    "version": 3
   },
   "file_extension": ".py",
   "mimetype": "text/x-python",
   "name": "python",
   "nbconvert_exporter": "python",
   "pygments_lexer": "ipython3",
   "version": "3.11.6"
  }
 },
 "nbformat": 4,
 "nbformat_minor": 2
}
